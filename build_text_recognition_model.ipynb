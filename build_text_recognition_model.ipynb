{
 "cells": [
  {
   "cell_type": "markdown",
   "metadata": {},
   "source": [
    "# Модель для анализ чеков"
   ]
  },
  {
   "cell_type": "code",
   "execution_count": 2,
   "metadata": {},
   "outputs": [],
   "source": [
    "import pandas as pd\n",
    "from parser import Parser\n",
    "import os\n",
    "import re\n",
    "from  sklearn.feature_extraction.text import CountVectorizer\n",
    "\n",
    "from pipline import remove_unit_whitespace,add_whitespace_before_unit_once,split_digit_with_unit,remove_service_char,remove_general_words"
   ]
  },
  {
   "cell_type": "code",
   "execution_count": 2,
   "metadata": {},
   "outputs": [],
   "source": [
    "parser = Parser()"
   ]
  },
  {
   "cell_type": "code",
   "execution_count": 275,
   "metadata": {},
   "outputs": [],
   "source": [
    "files = os.listdir(\"data\")\n",
    "\n",
    "df = pd.DataFrame()\n",
    "\n",
    "for filename in files:\n",
    "    new_df = parser.parse_to_df(filename)\n",
    "    df = pd.concat(\n",
    "        [df,new_df],axis=0,ignore_index=True\n",
    "    )"
   ]
  },
  {
   "cell_type": "code",
   "execution_count": 695,
   "metadata": {},
   "outputs": [],
   "source": [
    "df = pd.read_csv(\"data.csv\",index_col='ID')"
   ]
  },
  {
   "cell_type": "code",
   "execution_count": 696,
   "metadata": {
    "tags": []
   },
   "outputs": [],
   "source": [
    "df['clr_name'] = (\n",
    "    df.name\n",
    "    .apply(add_whitespace_before_unit_once)\n",
    "    .apply(split_digit_with_unit)\n",
    "    .apply(remove_nX)\n",
    "    .apply(remove_service_char)\n",
    ")"
   ]
  },
  {
   "cell_type": "code",
   "execution_count": 697,
   "metadata": {},
   "outputs": [
    {
     "output_type": "execute_result",
     "data": {
      "text/plain": [
       "                   name  price   sum  quantity  paymentType  productType  nds  \\\n",
       "ID                                                                              \n",
       "0   РОГАЛИК МОЛОЧ.4Х85Г   6899  6899       1.0            4            1    2   \n",
       "1    ХЛЕБЦЫ КУКУРУЗ.75Г   2199  2199       1.0            4            1    2   \n",
       "2     ХЛЕБЦЫ ОГО СТ 75Р   2119  2119       1.0            4            1    2   \n",
       "3   РОГАЛИК МОЛОЧ.4Х85Г   6899  6899       1.0            4            1    2   \n",
       "4   МАКФА СПАГЕТТИ 500Г   5999  5999       1.0            4            1    2   \n",
       "\n",
       "    ndsSum        date  label              clr_name  \n",
       "ID                                                   \n",
       "0      627  2021-01-09    1.0  рогалик молоч      г  \n",
       "1      200  2021-01-09    1.0  хлебцы кукуруз     г  \n",
       "2      193  2021-01-09    1.0    хлебцы ого ст    р  \n",
       "3      627  2021-01-09    1.0  рогалик молоч      г  \n",
       "4      545  2021-01-09    5.0  макфа спагетти     г  "
      ],
      "text/html": "<div>\n<style scoped>\n    .dataframe tbody tr th:only-of-type {\n        vertical-align: middle;\n    }\n\n    .dataframe tbody tr th {\n        vertical-align: top;\n    }\n\n    .dataframe thead th {\n        text-align: right;\n    }\n</style>\n<table border=\"1\" class=\"dataframe\">\n  <thead>\n    <tr style=\"text-align: right;\">\n      <th></th>\n      <th>name</th>\n      <th>price</th>\n      <th>sum</th>\n      <th>quantity</th>\n      <th>paymentType</th>\n      <th>productType</th>\n      <th>nds</th>\n      <th>ndsSum</th>\n      <th>date</th>\n      <th>label</th>\n      <th>clr_name</th>\n    </tr>\n    <tr>\n      <th>ID</th>\n      <th></th>\n      <th></th>\n      <th></th>\n      <th></th>\n      <th></th>\n      <th></th>\n      <th></th>\n      <th></th>\n      <th></th>\n      <th></th>\n      <th></th>\n    </tr>\n  </thead>\n  <tbody>\n    <tr>\n      <th>0</th>\n      <td>РОГАЛИК МОЛОЧ.4Х85Г</td>\n      <td>6899</td>\n      <td>6899</td>\n      <td>1.0</td>\n      <td>4</td>\n      <td>1</td>\n      <td>2</td>\n      <td>627</td>\n      <td>2021-01-09</td>\n      <td>1.0</td>\n      <td>рогалик молоч      г</td>\n    </tr>\n    <tr>\n      <th>1</th>\n      <td>ХЛЕБЦЫ КУКУРУЗ.75Г</td>\n      <td>2199</td>\n      <td>2199</td>\n      <td>1.0</td>\n      <td>4</td>\n      <td>1</td>\n      <td>2</td>\n      <td>200</td>\n      <td>2021-01-09</td>\n      <td>1.0</td>\n      <td>хлебцы кукуруз     г</td>\n    </tr>\n    <tr>\n      <th>2</th>\n      <td>ХЛЕБЦЫ ОГО СТ 75Р</td>\n      <td>2119</td>\n      <td>2119</td>\n      <td>1.0</td>\n      <td>4</td>\n      <td>1</td>\n      <td>2</td>\n      <td>193</td>\n      <td>2021-01-09</td>\n      <td>1.0</td>\n      <td>хлебцы ого ст    р</td>\n    </tr>\n    <tr>\n      <th>3</th>\n      <td>РОГАЛИК МОЛОЧ.4Х85Г</td>\n      <td>6899</td>\n      <td>6899</td>\n      <td>1.0</td>\n      <td>4</td>\n      <td>1</td>\n      <td>2</td>\n      <td>627</td>\n      <td>2021-01-09</td>\n      <td>1.0</td>\n      <td>рогалик молоч      г</td>\n    </tr>\n    <tr>\n      <th>4</th>\n      <td>МАКФА СПАГЕТТИ 500Г</td>\n      <td>5999</td>\n      <td>5999</td>\n      <td>1.0</td>\n      <td>4</td>\n      <td>1</td>\n      <td>2</td>\n      <td>545</td>\n      <td>2021-01-09</td>\n      <td>5.0</td>\n      <td>макфа спагетти     г</td>\n    </tr>\n  </tbody>\n</table>\n</div>"
     },
     "metadata": {},
     "execution_count": 697
    }
   ],
   "source": [
    "df.head()"
   ]
  },
  {
   "cell_type": "code",
   "execution_count": 698,
   "metadata": {},
   "outputs": [],
   "source": [
    "from sklearn.naive_bayes import MultinomialNB\n",
    "from sklearn.feature_extraction.text import TfidfTransformer\n",
    "from sklearn.model_selection import train_test_split\n",
    "from sklearn.pipeline import Pipeline\n",
    "from sklearn.linear_model import SGDClassifier\n",
    "from  sklearn.metrics import f1_score\n"
   ]
  },
  {
   "cell_type": "code",
   "execution_count": 700,
   "metadata": {},
   "outputs": [],
   "source": [
    "\n",
    "text_clf = Pipeline([\n",
    "     ('vect', CountVectorizer()),\n",
    "     ('tfidf', TfidfTransformer()),\n",
    "     ('clf', SGDClassifier(loss='hinge', penalty='l2',\n",
    " alpha=1e-3, random_state=42,\n",
    " max_iter=5, tol=None)),\n",
    " ])\n"
   ]
  },
  {
   "cell_type": "code",
   "execution_count": 701,
   "metadata": {},
   "outputs": [],
   "source": [
    "X = df[~df.label.isnull()].drop('label',axis=1)\n",
    "y = df[~df.label.isnull()].label\n",
    "\n",
    "X_train, X_test, y_train, y_test = train_test_split(X, y, test_size=0.33, random_state=42)\n",
    "\n"
   ]
  },
  {
   "cell_type": "code",
   "execution_count": 702,
   "metadata": {},
   "outputs": [
    {
     "output_type": "execute_result",
     "data": {
      "text/plain": [
       "Pipeline(steps=[('vect', CountVectorizer()), ('tfidf', TfidfTransformer()),\n",
       "                ('clf',\n",
       "                 SGDClassifier(alpha=0.001, max_iter=5, random_state=42,\n",
       "                               tol=None))])"
      ]
     },
     "metadata": {},
     "execution_count": 702
    }
   ],
   "source": [
    "text_clf.fit(X_train.clr_name,y_train)"
   ]
  },
  {
   "cell_type": "code",
   "execution_count": 703,
   "metadata": {},
   "outputs": [
    {
     "output_type": "execute_result",
     "data": {
      "text/plain": [
       "array([0.8       , 0.5       , 0.57142857, 0.        , 0.22222222,\n",
       "       0.71428571, 0.66666667, 1.        , 0.33333333, 0.76923077])"
      ]
     },
     "metadata": {},
     "execution_count": 703
    }
   ],
   "source": [
    "\n",
    "# X_tfidf = tf_transformer.transform(X_count)\n",
    "predict = text_clf.predict(X_test.clr_name)\n",
    "f1_score(y_test,predict,average=None)"
   ]
  },
  {
   "cell_type": "code",
   "execution_count": 759,
   "metadata": {},
   "outputs": [
    {
     "output_type": "execute_result",
     "data": {
      "text/plain": [
       "array([1.        , 0.875     , 0.96296296, 1.        , 0.93333333,\n",
       "       0.875     , 0.96296296, 1.        , 1.        , 0.91428571])"
      ]
     },
     "metadata": {},
     "execution_count": 759
    }
   ],
   "source": [
    "df = pd.read_csv(\"data.csv\",index_col='ID')\n",
    "\n",
    "df['clr_name'] = (\n",
    "    df.name\n",
    "    .apply(add_whitespace_before_unit_once)\n",
    "    .apply(split_digit_with_unit)\n",
    "    .apply(remove_nX)\n",
    "    .apply(remove_service_char)\n",
    "    .str.replace(\"%\",\" \")\n",
    ")\n",
    "\n",
    "X = df[~df.label.isnull()].drop('label',axis=1)\n",
    "y = df[~df.label.isnull()].label\n",
    "\n",
    "X_train, X_test, y_train, y_test = train_test_split(X, y, test_size=0.33, random_state=42)\n",
    "\n",
    "# text_clf.fit(X_train.clr_name,y_train)\n",
    "\n",
    "predict = text_clf.predict(X_test.clr_name)\n",
    "f1_score(y_test,predict,average=None)\n",
    "\n"
   ]
  },
  {
   "cell_type": "code",
   "execution_count": 756,
   "metadata": {},
   "outputs": [
    {
     "output_type": "stream",
     "name": "stderr",
     "text": [
      "<ipython-input-756-21ed8ab8b7b2>:1: SettingWithCopyWarning: \nA value is trying to be set on a copy of a slice from a DataFrame.\nTry using .loc[row_indexer,col_indexer] = value instead\n\nSee the caveats in the documentation: https://pandas.pydata.org/pandas-docs/stable/user_guide/indexing.html#returning-a-view-versus-a-copy\n  X_test['true']= y_test\n<ipython-input-756-21ed8ab8b7b2>:2: SettingWithCopyWarning: \nA value is trying to be set on a copy of a slice from a DataFrame.\nTry using .loc[row_indexer,col_indexer] = value instead\n\nSee the caveats in the documentation: https://pandas.pydata.org/pandas-docs/stable/user_guide/indexing.html#returning-a-view-versus-a-copy\n  X_test['pred'] = predict\n"
     ]
    },
    {
     "output_type": "execute_result",
     "data": {
      "text/plain": [
       "                     name  price   sum  quantity  paymentType  productType  \\\n",
       "ID                                                                           \n",
       "183  СЛОЙКА ВЕТЧ/СЫР 1Х75   2699  2699     1.000            4            1   \n",
       "158    БАРАНКИ ВВ МАК300Г   3999  3999     1.000            4            1   \n",
       "790  ХЛЕБЦ ЩЕДР БОРОД 170   5499  5499     1.000            4            1   \n",
       "246  СЛОЙКА ВЕТЧ/СЫР 1Х75   2699  2699     1.000            4            1   \n",
       "235  БАТОН ДАЧНЫЙ НАР.350   3999  3999     1.000            4            1   \n",
       "82             ЛАВАШ 220Г   3599  3599     1.000            4            1   \n",
       "73   ЛЕПЁШКА С СЫРОМ 290Г   4299  4299     1.000            4            1   \n",
       "182  СЛОЙКА ВЕТЧ/СЫР 1Х75   2699  2699     1.000            4            1   \n",
       "452  БАТОН ДАЧНЫЙ НАР.350   3999  3999     1.000            4            1   \n",
       "192   ХЛЕБ ДАРНИЦКИЙ 350Г   3599  3599     1.000            4            1   \n",
       "181  СЛОЙКА ВЕТЧ/СЫР 1Х75   2699  2699     1.000            4            1   \n",
       "513  БАРАНКА ВАНИЛЬН.350Г   4299  4299     1.000            4            1   \n",
       "247  СЛОЙКА ВЕТЧ/СЫР 1Х75   2699  2699     1.000            4            1   \n",
       "687   ПЕЧ КАШИН ОВСЯН 1КГ  14999  7200     0.480            4            1   \n",
       "76      ХЛЕБЦЫ ОГО СТ 75Р   2119  4238     2.000            4            1   \n",
       "72   Лепешка домашн.250гр   3299  3299     1.000            4            1   \n",
       "15   ПЕЧ ОВСЯН КЛАССИЧ300   4499  8998     2.000            4            1   \n",
       "16     ПЕЧЕНЬЕ МАРИЯ 500Г   4799  4799     1.000            4            1   \n",
       "320   ПЕЧ КАШИН ОВСЯН 1КГ  14999  8804     0.587            4            1   \n",
       "\n",
       "     nds  ndsSum        date                clr_name  true  pred  \n",
       "ID                                                                \n",
       "183    2     245  2021-04-30     слойка ветч/сыр       1.0   1.0  \n",
       "158    2     364  2021-04-30    баранки вв мак     г   1.0   1.0  \n",
       "790    2     500  2021-01-15    хлебц щедр бород       1.0   1.0  \n",
       "246    2     245  2021-03-27     слойка ветч/сыр       1.0   1.0  \n",
       "235    2     364  2021-03-27   батон дачный нар        1.0   1.0  \n",
       "82     2     327  2021-01-06             лаваш     г   1.0   1.0  \n",
       "73     2     391  2021-01-06   лепёшка с сыром     г   1.0   1.0  \n",
       "182    2     245  2021-04-30     слойка ветч/сыр       1.0   1.0  \n",
       "452    2     364  2021-02-06   батон дачный нар        1.0   1.0  \n",
       "192    2     327  2021-04-30    хлеб дарницкий     г   1.0   1.0  \n",
       "181    2     245  2021-04-30     слойка ветч/сыр       1.0   1.0  \n",
       "513    2     391  2021-01-30  баранка ванильн      г   1.0   1.0  \n",
       "247    2     245  2021-03-27     слойка ветч/сыр       1.0   1.0  \n",
       "687    1    1200  2021-03-19     печ кашин овсян  кг   1.0   1.0  \n",
       "76     2     385  2021-01-06      хлебцы ого ст    р   1.0   1.0  \n",
       "72     2     300  2021-01-06  лепешка домашн      гр   1.0   1.0  \n",
       "15     1    1500  2021-04-03   печ овсян классич       1.0   1.0  \n",
       "16     1     800  2021-04-03     печенье мария     г   1.0   1.0  \n",
       "320    1    1467  2021-03-13     печ кашин овсян  кг   1.0   1.0  "
      ],
      "text/html": "<div>\n<style scoped>\n    .dataframe tbody tr th:only-of-type {\n        vertical-align: middle;\n    }\n\n    .dataframe tbody tr th {\n        vertical-align: top;\n    }\n\n    .dataframe thead th {\n        text-align: right;\n    }\n</style>\n<table border=\"1\" class=\"dataframe\">\n  <thead>\n    <tr style=\"text-align: right;\">\n      <th></th>\n      <th>name</th>\n      <th>price</th>\n      <th>sum</th>\n      <th>quantity</th>\n      <th>paymentType</th>\n      <th>productType</th>\n      <th>nds</th>\n      <th>ndsSum</th>\n      <th>date</th>\n      <th>clr_name</th>\n      <th>true</th>\n      <th>pred</th>\n    </tr>\n    <tr>\n      <th>ID</th>\n      <th></th>\n      <th></th>\n      <th></th>\n      <th></th>\n      <th></th>\n      <th></th>\n      <th></th>\n      <th></th>\n      <th></th>\n      <th></th>\n      <th></th>\n      <th></th>\n    </tr>\n  </thead>\n  <tbody>\n    <tr>\n      <th>183</th>\n      <td>СЛОЙКА ВЕТЧ/СЫР 1Х75</td>\n      <td>2699</td>\n      <td>2699</td>\n      <td>1.000</td>\n      <td>4</td>\n      <td>1</td>\n      <td>2</td>\n      <td>245</td>\n      <td>2021-04-30</td>\n      <td>слойка ветч/сыр</td>\n      <td>1.0</td>\n      <td>1.0</td>\n    </tr>\n    <tr>\n      <th>158</th>\n      <td>БАРАНКИ ВВ МАК300Г</td>\n      <td>3999</td>\n      <td>3999</td>\n      <td>1.000</td>\n      <td>4</td>\n      <td>1</td>\n      <td>2</td>\n      <td>364</td>\n      <td>2021-04-30</td>\n      <td>баранки вв мак     г</td>\n      <td>1.0</td>\n      <td>1.0</td>\n    </tr>\n    <tr>\n      <th>790</th>\n      <td>ХЛЕБЦ ЩЕДР БОРОД 170</td>\n      <td>5499</td>\n      <td>5499</td>\n      <td>1.000</td>\n      <td>4</td>\n      <td>1</td>\n      <td>2</td>\n      <td>500</td>\n      <td>2021-01-15</td>\n      <td>хлебц щедр бород</td>\n      <td>1.0</td>\n      <td>1.0</td>\n    </tr>\n    <tr>\n      <th>246</th>\n      <td>СЛОЙКА ВЕТЧ/СЫР 1Х75</td>\n      <td>2699</td>\n      <td>2699</td>\n      <td>1.000</td>\n      <td>4</td>\n      <td>1</td>\n      <td>2</td>\n      <td>245</td>\n      <td>2021-03-27</td>\n      <td>слойка ветч/сыр</td>\n      <td>1.0</td>\n      <td>1.0</td>\n    </tr>\n    <tr>\n      <th>235</th>\n      <td>БАТОН ДАЧНЫЙ НАР.350</td>\n      <td>3999</td>\n      <td>3999</td>\n      <td>1.000</td>\n      <td>4</td>\n      <td>1</td>\n      <td>2</td>\n      <td>364</td>\n      <td>2021-03-27</td>\n      <td>батон дачный нар</td>\n      <td>1.0</td>\n      <td>1.0</td>\n    </tr>\n    <tr>\n      <th>82</th>\n      <td>ЛАВАШ 220Г</td>\n      <td>3599</td>\n      <td>3599</td>\n      <td>1.000</td>\n      <td>4</td>\n      <td>1</td>\n      <td>2</td>\n      <td>327</td>\n      <td>2021-01-06</td>\n      <td>лаваш     г</td>\n      <td>1.0</td>\n      <td>1.0</td>\n    </tr>\n    <tr>\n      <th>73</th>\n      <td>ЛЕПЁШКА С СЫРОМ 290Г</td>\n      <td>4299</td>\n      <td>4299</td>\n      <td>1.000</td>\n      <td>4</td>\n      <td>1</td>\n      <td>2</td>\n      <td>391</td>\n      <td>2021-01-06</td>\n      <td>лепёшка с сыром     г</td>\n      <td>1.0</td>\n      <td>1.0</td>\n    </tr>\n    <tr>\n      <th>182</th>\n      <td>СЛОЙКА ВЕТЧ/СЫР 1Х75</td>\n      <td>2699</td>\n      <td>2699</td>\n      <td>1.000</td>\n      <td>4</td>\n      <td>1</td>\n      <td>2</td>\n      <td>245</td>\n      <td>2021-04-30</td>\n      <td>слойка ветч/сыр</td>\n      <td>1.0</td>\n      <td>1.0</td>\n    </tr>\n    <tr>\n      <th>452</th>\n      <td>БАТОН ДАЧНЫЙ НАР.350</td>\n      <td>3999</td>\n      <td>3999</td>\n      <td>1.000</td>\n      <td>4</td>\n      <td>1</td>\n      <td>2</td>\n      <td>364</td>\n      <td>2021-02-06</td>\n      <td>батон дачный нар</td>\n      <td>1.0</td>\n      <td>1.0</td>\n    </tr>\n    <tr>\n      <th>192</th>\n      <td>ХЛЕБ ДАРНИЦКИЙ 350Г</td>\n      <td>3599</td>\n      <td>3599</td>\n      <td>1.000</td>\n      <td>4</td>\n      <td>1</td>\n      <td>2</td>\n      <td>327</td>\n      <td>2021-04-30</td>\n      <td>хлеб дарницкий     г</td>\n      <td>1.0</td>\n      <td>1.0</td>\n    </tr>\n    <tr>\n      <th>181</th>\n      <td>СЛОЙКА ВЕТЧ/СЫР 1Х75</td>\n      <td>2699</td>\n      <td>2699</td>\n      <td>1.000</td>\n      <td>4</td>\n      <td>1</td>\n      <td>2</td>\n      <td>245</td>\n      <td>2021-04-30</td>\n      <td>слойка ветч/сыр</td>\n      <td>1.0</td>\n      <td>1.0</td>\n    </tr>\n    <tr>\n      <th>513</th>\n      <td>БАРАНКА ВАНИЛЬН.350Г</td>\n      <td>4299</td>\n      <td>4299</td>\n      <td>1.000</td>\n      <td>4</td>\n      <td>1</td>\n      <td>2</td>\n      <td>391</td>\n      <td>2021-01-30</td>\n      <td>баранка ванильн      г</td>\n      <td>1.0</td>\n      <td>1.0</td>\n    </tr>\n    <tr>\n      <th>247</th>\n      <td>СЛОЙКА ВЕТЧ/СЫР 1Х75</td>\n      <td>2699</td>\n      <td>2699</td>\n      <td>1.000</td>\n      <td>4</td>\n      <td>1</td>\n      <td>2</td>\n      <td>245</td>\n      <td>2021-03-27</td>\n      <td>слойка ветч/сыр</td>\n      <td>1.0</td>\n      <td>1.0</td>\n    </tr>\n    <tr>\n      <th>687</th>\n      <td>ПЕЧ КАШИН ОВСЯН 1КГ</td>\n      <td>14999</td>\n      <td>7200</td>\n      <td>0.480</td>\n      <td>4</td>\n      <td>1</td>\n      <td>1</td>\n      <td>1200</td>\n      <td>2021-03-19</td>\n      <td>печ кашин овсян  кг</td>\n      <td>1.0</td>\n      <td>1.0</td>\n    </tr>\n    <tr>\n      <th>76</th>\n      <td>ХЛЕБЦЫ ОГО СТ 75Р</td>\n      <td>2119</td>\n      <td>4238</td>\n      <td>2.000</td>\n      <td>4</td>\n      <td>1</td>\n      <td>2</td>\n      <td>385</td>\n      <td>2021-01-06</td>\n      <td>хлебцы ого ст    р</td>\n      <td>1.0</td>\n      <td>1.0</td>\n    </tr>\n    <tr>\n      <th>72</th>\n      <td>Лепешка домашн.250гр</td>\n      <td>3299</td>\n      <td>3299</td>\n      <td>1.000</td>\n      <td>4</td>\n      <td>1</td>\n      <td>2</td>\n      <td>300</td>\n      <td>2021-01-06</td>\n      <td>лепешка домашн      гр</td>\n      <td>1.0</td>\n      <td>1.0</td>\n    </tr>\n    <tr>\n      <th>15</th>\n      <td>ПЕЧ ОВСЯН КЛАССИЧ300</td>\n      <td>4499</td>\n      <td>8998</td>\n      <td>2.000</td>\n      <td>4</td>\n      <td>1</td>\n      <td>1</td>\n      <td>1500</td>\n      <td>2021-04-03</td>\n      <td>печ овсян классич</td>\n      <td>1.0</td>\n      <td>1.0</td>\n    </tr>\n    <tr>\n      <th>16</th>\n      <td>ПЕЧЕНЬЕ МАРИЯ 500Г</td>\n      <td>4799</td>\n      <td>4799</td>\n      <td>1.000</td>\n      <td>4</td>\n      <td>1</td>\n      <td>1</td>\n      <td>800</td>\n      <td>2021-04-03</td>\n      <td>печенье мария     г</td>\n      <td>1.0</td>\n      <td>1.0</td>\n    </tr>\n    <tr>\n      <th>320</th>\n      <td>ПЕЧ КАШИН ОВСЯН 1КГ</td>\n      <td>14999</td>\n      <td>8804</td>\n      <td>0.587</td>\n      <td>4</td>\n      <td>1</td>\n      <td>1</td>\n      <td>1467</td>\n      <td>2021-03-13</td>\n      <td>печ кашин овсян  кг</td>\n      <td>1.0</td>\n      <td>1.0</td>\n    </tr>\n  </tbody>\n</table>\n</div>"
     },
     "metadata": {},
     "execution_count": 756
    }
   ],
   "source": [
    "X_test['true']= y_test\n",
    "X_test['pred'] = predict\n",
    "X_test[X_test.true==1]"
   ]
  },
  {
   "cell_type": "code",
   "execution_count": 762,
   "metadata": {},
   "outputs": [
    {
     "output_type": "stream",
     "name": "stderr",
     "text": [
      "<ipython-input-762-0a8d30fadb77>:8: SettingWithCopyWarning: \nA value is trying to be set on a copy of a slice from a DataFrame.\nTry using .loc[row_indexer,col_indexer] = value instead\n\nSee the caveats in the documentation: https://pandas.pydata.org/pandas-docs/stable/user_guide/indexing.html#returning-a-view-versus-a-copy\n  X_test['label'] = predict\n"
     ]
    }
   ],
   "source": [
    "\n",
    "\n",
    "X_train = df[~df.label.isnull()]\n",
    "y_train = X_train.label\n",
    "X_test = df[df.label.isnull()]\n",
    "\n",
    "text_clf.fit(X_train.clr_name,y_train)\n",
    "predict = text_clf.predict(X_test.clr_name)\n",
    "\n",
    "X_test['label'] = predict"
   ]
  },
  {
   "cell_type": "code",
   "execution_count": 765,
   "metadata": {},
   "outputs": [],
   "source": [
    "\n",
    "X = pd.concat([X_train,X_test],axis=0,ignore_index=True)\n",
    "\n",
    "n=10\n",
    "for i in range(n+1):\n",
    "    X[X.label==i].to_csv(f\"categories/{i}.csv\")"
   ]
  },
  {
   "cell_type": "code",
   "execution_count": 768,
   "metadata": {},
   "outputs": [],
   "source": [
    "df = parser.parse_to_df(\"07_05_2021_07_09_396895281735009403388.json\")\n",
    "\n",
    "df['clr_name'] = (\n",
    "    df.name\n",
    "    .apply(add_whitespace_before_unit_once)\n",
    "    .apply(split_digit_with_unit)\n",
    "    .apply(remove_nX)\n",
    "    #pply(remove_service_char)\n",
    "    # ..replace(\"%\",\" \")\n",
    ")\n",
    "predict = text_clf.predict(df.clr_name)\n",
    "df['label'] = predict\n"
   ]
  }
 ],
 "metadata": {
  "kernelspec": {
   "name": "python380jvsc74a57bd04b20fc2746eddd6f5463c75956f7030d202a08253e3678b596b295b062b69a28",
   "display_name": "Python 3.8.0 64-bit ('notebook': pyenv)"
  },
  "language_info": {
   "codemirror_mode": {
    "name": "ipython",
    "version": 3
   },
   "file_extension": ".py",
   "mimetype": "text/x-python",
   "name": "python",
   "nbconvert_exporter": "python",
   "pygments_lexer": "ipython3",
   "version": "3.8.0"
  }
 },
 "nbformat": 4,
 "nbformat_minor": 4
}